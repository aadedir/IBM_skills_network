{
 "cells": [
  {
   "cell_type": "code",
   "execution_count": null,
   "id": "5fe0fa81",
   "metadata": {},
   "outputs": [],
   "source": [
    "print(\"hello world\")"
   ]
  },
  {
   "cell_type": "code",
   "execution_count": null,
   "id": "7148f813",
   "metadata": {},
   "outputs": [],
   "source": [
    "story_name = input(\"What's your character's name:\")\n",
    "story_age = input(\"What's your character's age:\")\n",
    "story_place = input(\"Where does your character live:\")\n",
    "print(\"There once was a person named \" + story_name + \".\")\n",
    "print(story_name + \" was \" + story_age + \" years old.\")\n",
    "print(story_name + \" lived in \" + story_place + \".\")\n",
    "print(story_name + \" was a very happy person.\")"
   ]
  },
  {
   "cell_type": "code",
   "execution_count": null,
   "id": "01437b79",
   "metadata": {},
   "outputs": [],
   "source": [
    "print(\"Jupyter\\nNotebook\")"
   ]
  },
  {
   "cell_type": "code",
   "execution_count": null,
   "id": "c8df5f80",
   "metadata": {},
   "outputs": [],
   "source": [
    "phrase = \"Jupter Notebook\"\n",
    "print(phrase.lower() + \" IS FUN.\")"
   ]
  },
  {
   "cell_type": "code",
   "execution_count": null,
   "id": "8851b370",
   "metadata": {
    "scrolled": false
   },
   "outputs": [],
   "source": [
    "my_number = 7\n",
    "print(str(my_number) + \" is my favorite number.\")"
   ]
  },
  {
   "cell_type": "code",
   "execution_count": null,
   "id": "e71d3e35",
   "metadata": {},
   "outputs": [],
   "source": [
    "print(pow(2, my_number))"
   ]
  },
  {
   "cell_type": "code",
   "execution_count": null,
   "id": "f04845d0",
   "metadata": {},
   "outputs": [],
   "source": [
    "print(round(3.5))"
   ]
  },
  {
   "cell_type": "code",
   "execution_count": null,
   "id": "2ff5c385",
   "metadata": {},
   "outputs": [],
   "source": [
    "from math import *\n",
    "print(floor(3.4999999999999999))"
   ]
  },
  {
   "cell_type": "code",
   "execution_count": null,
   "id": "5c73cd14",
   "metadata": {},
   "outputs": [],
   "source": [
    "input(\"Enter your name:\")"
   ]
  },
  {
   "cell_type": "code",
   "execution_count": null,
   "id": "b1d4c358",
   "metadata": {},
   "outputs": [],
   "source": [
    "name = input(\"Enter your name:\")\n",
    "print(\"Hello \" + name + \"!\" + \" How are you today?\")"
   ]
  },
  {
   "cell_type": "code",
   "execution_count": null,
   "id": "a94760d3",
   "metadata": {},
   "outputs": [],
   "source": [
    "num1 = input(\"Enter any number:\")\n",
    "num2 = input(\"Enter another number:\")\n",
    "result = float(num1) + float(num2)\n",
    "print(result)"
   ]
  },
  {
   "cell_type": "code",
   "execution_count": null,
   "id": "3c4cefd5",
   "metadata": {},
   "outputs": [],
   "source": [
    "friends = [\"Josh\", \"Drake\", \"Karen\"]\n",
    "lucky_numbers = [1,7,3,8,9,2]\n",
    "lucky_numbers.sort()\n",
    "print(friends)\n",
    "print(lucky_numbers)\n"
   ]
  },
  {
   "cell_type": "code",
   "execution_count": null,
   "id": "19fd2563",
   "metadata": {},
   "outputs": [],
   "source": [
    "def say_hello():\n",
    "    name = input(\"What's your name:\")\n",
    "    print(\"Hello \" + name +\"!\")\n",
    "say_hello()"
   ]
  }
 ],
 "metadata": {
  "kernelspec": {
   "display_name": "Python 3 (ipykernel)",
   "language": "python",
   "name": "python3"
  },
  "language_info": {
   "codemirror_mode": {
    "name": "ipython",
    "version": 3
   },
   "file_extension": ".py",
   "mimetype": "text/x-python",
   "name": "python",
   "nbconvert_exporter": "python",
   "pygments_lexer": "ipython3",
   "version": "3.9.13"
  }
 },
 "nbformat": 4,
 "nbformat_minor": 5
}
